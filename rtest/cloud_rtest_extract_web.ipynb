{
 "cells": [
  {
   "cell_type": "code",
   "execution_count": 1,
   "metadata": {},
   "outputs": [],
   "source": [
    "# coding: utf-8\n",
    "import re\n",
    "import urllib\n",
    "import requests\n",
    "import pandas as pd\n",
    "from bs4 import BeautifulSoup\n",
    "import shutil\n",
    "from os import listdir\n",
    "from os.path import isfile, join\n",
    "import pandas as pd"
   ]
  },
  {
   "cell_type": "code",
   "execution_count": null,
   "metadata": {},
   "outputs": [],
   "source": [
    "url = 'file:///Users/vitali/Documents/shanshan/cloud/rtest/mib2plus_connected_Audi_CVT_Azure.html'\n",
    "page = requests.get(url)\n",
    "html = page.text\n",
    "soup = BeautifulSoup(html)"
   ]
  },
  {
   "cell_type": "code",
   "execution_count": 27,
   "metadata": {},
   "outputs": [
    {
     "name": "stdout",
     "output_type": "stream",
     "text": [
      "['rregression112', 'SPE weather speweatherregression113', 'SPE weather speweatherregression114', 'SPE weather speweatherregression115', 'SPE weather speweatherregression116', 'SPE weather speweatherregression117']\n"
     ]
    }
   ],
   "source": [
    "with open('regression_result.txt', 'r') as log_file_fh:\n",
    "    lines = [line.strip('\\n') for line in log_file_fh.readlines()]\n",
    "log_file_fh.close()\n",
    "print(lines[:6])\n",
    "        \n",
    "  "
   ]
  },
  {
   "cell_type": "code",
   "execution_count": 28,
   "metadata": {},
   "outputs": [],
   "source": [
    "lan=[]\n",
    "input_text = []\n",
    "file_name = []\n",
    "tar_pcm = []\n",
    "ref_pcm=[]\n",
    "work_path = 'c:\\_projects\\mib2plus-connected\\dev'"
   ]
  },
  {
   "cell_type": "code",
   "execution_count": 29,
   "metadata": {},
   "outputs": [
    {
     "name": "stdout",
     "output_type": "stream",
     "text": [
      "('tts_regression\\\\MNC_Tian-Tian\\\\baseline\\\\Audi_Azure_CVT_Shanghai\\\\mncweatherregression130_ref.pcm', ['MNC', 'MNC', 'MNC', 'MNC', 'MNC', 'MNC', 'MNC', 'MNC', 'MNC', 'MNC', 'MNC', 'MNC', 'MNC', 'MNC', 'MNC', 'MNC', 'MNC', 'MNC', 'MNC', 'MNC', 'MNC', 'MNC'], ['mncweatherregression125', 'mncweatherregression130', 'mncweatherregression132', 'mncweatherregression135', 'mncweatherregression137', 'mncweatherregression37', 'mncweatherregression39', 'mncweatherregression43', 'mncweatherregression44', 'mncweatherregression63', 'mncweatherregression66', 'mncweatherregression69', 'mncweatherregression72', 'mncweatherregression75', 'mncweatherregression78', 'mncweatherregression81', 'mncweatherregression84', 'mncweatherregression154', 'mncslash', 'mncrmb', 'mncbelowzero2', 'mncdate'])\n"
     ]
    }
   ],
   "source": [
    "for i in range(len(lines)):\n",
    "    if lines[i][:8] == 'FAILURE:':\n",
    "        lan.append(lines[i-1].split(' ')[0])\n",
    "        file_name.append(lines[i-1].split(' ')[2])\n",
    "        ref_pcm.append(lines[i+1].split('\\\\..\\\\..\\\\')[1])\n",
    "        tar_pcm.append(lines[i+2].split('\\\\..\\\\..\\\\')[1])\n",
    "        i+=3\n",
    "print(ref_pcm[1],lan,file_name)\n",
    "        \n",
    "        "
   ]
  },
  {
   "cell_type": "code",
   "execution_count": null,
   "metadata": {},
   "outputs": [],
   "source": [
    "for i in range(len(lines)):\n",
    "    if lines[i][:6] == 'INPUT ':\n",
    "        if lines[i+3][:8] == 'FAILURE:':\n",
    "            lan.append(lines[i][6:9])\n",
    "            input_text.append(lines[i][11:])\n",
    "            \n",
    "            ref_pcm.append(lines[i+4].split('\\\\..\\\\..\\\\')[1])\n",
    "            tar_pcm.append(lines[i+5].split('\\\\..\\\\..\\\\')[1])\n",
    "            \n",
    "        i += 6\n",
    "    else:\n",
    "        i += 1 \n",
    "print(len(lan), len(input_text),'\\nref: '+ref_pcm[0], 'tar: '+tar_pcm[0])"
   ]
  },
  {
   "cell_type": "code",
   "execution_count": null,
   "metadata": {},
   "outputs": [],
   "source": [
    "c:\\_projects\\mib2plus-connected\\dev\\tts_regression\\GED_Ina\\baseline\\Audi_Azure_CVT\\youtube_ref.pcm\n",
    "    =HYPERLINK(\"soundfiles\\\"&D59&\".wav\";\"open\")"
   ]
  },
  {
   "cell_type": "code",
   "execution_count": 30,
   "metadata": {},
   "outputs": [
    {
     "name": "stdout",
     "output_type": "stream",
     "text": [
      "                       file language  \\\n",
      "0   mncweatherregression125      MNC   \n",
      "1   mncweatherregression130      MNC   \n",
      "2   mncweatherregression132      MNC   \n",
      "3   mncweatherregression135      MNC   \n",
      "4   mncweatherregression137      MNC   \n",
      "5    mncweatherregression37      MNC   \n",
      "6    mncweatherregression39      MNC   \n",
      "7    mncweatherregression43      MNC   \n",
      "8    mncweatherregression44      MNC   \n",
      "9    mncweatherregression63      MNC   \n",
      "10   mncweatherregression66      MNC   \n",
      "11   mncweatherregression69      MNC   \n",
      "12   mncweatherregression72      MNC   \n",
      "13   mncweatherregression75      MNC   \n",
      "14   mncweatherregression78      MNC   \n",
      "15   mncweatherregression81      MNC   \n",
      "16   mncweatherregression84      MNC   \n",
      "17  mncweatherregression154      MNC   \n",
      "18                 mncslash      MNC   \n",
      "19                   mncrmb      MNC   \n",
      "20            mncbelowzero2      MNC   \n",
      "21                  mncdate      MNC   \n",
      "\n",
      "                                                  ref  \\\n",
      "0   tts_regression\\MNC_Tian-Tian\\baseline\\Audi_Azu...   \n",
      "1   tts_regression\\MNC_Tian-Tian\\baseline\\Audi_Azu...   \n",
      "2   tts_regression\\MNC_Tian-Tian\\baseline\\Audi_Azu...   \n",
      "3   tts_regression\\MNC_Tian-Tian\\baseline\\Audi_Azu...   \n",
      "4   tts_regression\\MNC_Tian-Tian\\baseline\\Audi_Azu...   \n",
      "5   tts_regression\\MNC_Tian-Tian\\baseline\\Audi_Azu...   \n",
      "6   tts_regression\\MNC_Tian-Tian\\baseline\\Audi_Azu...   \n",
      "7   tts_regression\\MNC_Tian-Tian\\baseline\\Audi_Azu...   \n",
      "8   tts_regression\\MNC_Tian-Tian\\baseline\\Audi_Azu...   \n",
      "9   tts_regression\\MNC_Tian-Tian\\baseline\\Audi_Azu...   \n",
      "10  tts_regression\\MNC_Tian-Tian\\baseline\\Audi_Azu...   \n",
      "11  tts_regression\\MNC_Tian-Tian\\baseline\\Audi_Azu...   \n",
      "12  tts_regression\\MNC_Tian-Tian\\baseline\\Audi_Azu...   \n",
      "13  tts_regression\\MNC_Tian-Tian\\baseline\\Audi_Azu...   \n",
      "14  tts_regression\\MNC_Tian-Tian\\baseline\\Audi_Azu...   \n",
      "15  tts_regression\\MNC_Tian-Tian\\baseline\\Audi_Azu...   \n",
      "16  tts_regression\\MNC_Tian-Tian\\baseline\\Audi_Azu...   \n",
      "17  tts_regression\\MNC_Tian-Tian\\baseline\\Audi_Azu...   \n",
      "18  tts_regression\\MNC_Tian-Tian\\baseline\\Audi_Azu...   \n",
      "19  tts_regression\\MNC_Tian-Tian\\baseline\\Audi_Azu...   \n",
      "20  tts_regression\\MNC_Tian-Tian\\baseline\\Audi_Azu...   \n",
      "21  tts_regression\\MNC_Tian-Tian\\baseline\\Audi_Azu...   \n",
      "\n",
      "                                                  tar  \n",
      "0   tts_regression\\MNC_Tian-Tian\\impact_test\\..\\ba...  \n",
      "1   tts_regression\\MNC_Tian-Tian\\impact_test\\..\\ba...  \n",
      "2   tts_regression\\MNC_Tian-Tian\\impact_test\\..\\ba...  \n",
      "3   tts_regression\\MNC_Tian-Tian\\impact_test\\..\\ba...  \n",
      "4   tts_regression\\MNC_Tian-Tian\\impact_test\\..\\ba...  \n",
      "5   tts_regression\\MNC_Tian-Tian\\impact_test\\..\\ba...  \n",
      "6   tts_regression\\MNC_Tian-Tian\\impact_test\\..\\ba...  \n",
      "7   tts_regression\\MNC_Tian-Tian\\impact_test\\..\\ba...  \n",
      "8   tts_regression\\MNC_Tian-Tian\\impact_test\\..\\ba...  \n",
      "9   tts_regression\\MNC_Tian-Tian\\impact_test\\..\\ba...  \n",
      "10  tts_regression\\MNC_Tian-Tian\\impact_test\\..\\ba...  \n",
      "11  tts_regression\\MNC_Tian-Tian\\impact_test\\..\\ba...  \n",
      "12  tts_regression\\MNC_Tian-Tian\\impact_test\\..\\ba...  \n",
      "13  tts_regression\\MNC_Tian-Tian\\impact_test\\..\\ba...  \n",
      "14  tts_regression\\MNC_Tian-Tian\\impact_test\\..\\ba...  \n",
      "15  tts_regression\\MNC_Tian-Tian\\impact_test\\..\\ba...  \n",
      "16  tts_regression\\MNC_Tian-Tian\\impact_test\\..\\ba...  \n",
      "17  tts_regression\\MNC_Tian-Tian\\impact_test\\..\\ba...  \n",
      "18  tts_regression\\MNC_Tian-Tian\\impact_test\\..\\ba...  \n",
      "19  tts_regression\\MNC_Tian-Tian\\impact_test\\..\\ba...  \n",
      "20  tts_regression\\MNC_Tian-Tian\\impact_test\\..\\ba...  \n",
      "21  tts_regression\\MNC_Tian-Tian\\impact_test\\..\\ba...  \n"
     ]
    }
   ],
   "source": [
    "df=pd.DataFrame({'language':lan,'file':file_name, 'ref':ref_pcm, 'tar':tar_pcm})\n",
    "print(df)"
   ]
  },
  {
   "cell_type": "code",
   "execution_count": 19,
   "metadata": {},
   "outputs": [],
   "source": [
    "## where is input_text now?"
   ]
  },
  {
   "cell_type": "code",
   "execution_count": 31,
   "metadata": {},
   "outputs": [
    {
     "name": "stdout",
     "output_type": "stream",
     "text": [
      "=HYPERLINK(\"c:\\_projects\\mib2plus-connected\\dev\\tts_regression\\MNC_Tian-Tian\\baseline\\Audi_Azure_CVT_Shanghai\\mncweatherregression125_ref.pcm\";\"open\")\n"
     ]
    }
   ],
   "source": [
    "work_path = 'c:\\_projects\\mib2plus-connected\\dev'\n",
    "def wav_link(pcm):\n",
    "    #wav = work_path  + pcm[:-3] + 'wav'\n",
    "    wav = work_path  +'\\\\'+ pcm\n",
    "    link = '=HYPERLINK(\"'+  wav+ '\";\"open\")'\n",
    "    return link\n",
    "\n",
    "a = wav_link(ref_pcm[0])\n",
    "print(a)\n",
    "    "
   ]
  },
  {
   "cell_type": "code",
   "execution_count": 32,
   "metadata": {},
   "outputs": [
    {
     "name": "stdout",
     "output_type": "stream",
     "text": [
      "                       file language  \\\n",
      "0   mncweatherregression125      MNC   \n",
      "1   mncweatherregression130      MNC   \n",
      "2   mncweatherregression132      MNC   \n",
      "3   mncweatherregression135      MNC   \n",
      "4   mncweatherregression137      MNC   \n",
      "5    mncweatherregression37      MNC   \n",
      "6    mncweatherregression39      MNC   \n",
      "7    mncweatherregression43      MNC   \n",
      "8    mncweatherregression44      MNC   \n",
      "9    mncweatherregression63      MNC   \n",
      "10   mncweatherregression66      MNC   \n",
      "11   mncweatherregression69      MNC   \n",
      "12   mncweatherregression72      MNC   \n",
      "13   mncweatherregression75      MNC   \n",
      "14   mncweatherregression78      MNC   \n",
      "15   mncweatherregression81      MNC   \n",
      "16   mncweatherregression84      MNC   \n",
      "17  mncweatherregression154      MNC   \n",
      "18                 mncslash      MNC   \n",
      "19                   mncrmb      MNC   \n",
      "20            mncbelowzero2      MNC   \n",
      "21                  mncdate      MNC   \n",
      "\n",
      "                                                  ref  \\\n",
      "0   =HYPERLINK(\"c:\\_projects\\mib2plus-connected\\de...   \n",
      "1   =HYPERLINK(\"c:\\_projects\\mib2plus-connected\\de...   \n",
      "2   =HYPERLINK(\"c:\\_projects\\mib2plus-connected\\de...   \n",
      "3   =HYPERLINK(\"c:\\_projects\\mib2plus-connected\\de...   \n",
      "4   =HYPERLINK(\"c:\\_projects\\mib2plus-connected\\de...   \n",
      "5   =HYPERLINK(\"c:\\_projects\\mib2plus-connected\\de...   \n",
      "6   =HYPERLINK(\"c:\\_projects\\mib2plus-connected\\de...   \n",
      "7   =HYPERLINK(\"c:\\_projects\\mib2plus-connected\\de...   \n",
      "8   =HYPERLINK(\"c:\\_projects\\mib2plus-connected\\de...   \n",
      "9   =HYPERLINK(\"c:\\_projects\\mib2plus-connected\\de...   \n",
      "10  =HYPERLINK(\"c:\\_projects\\mib2plus-connected\\de...   \n",
      "11  =HYPERLINK(\"c:\\_projects\\mib2plus-connected\\de...   \n",
      "12  =HYPERLINK(\"c:\\_projects\\mib2plus-connected\\de...   \n",
      "13  =HYPERLINK(\"c:\\_projects\\mib2plus-connected\\de...   \n",
      "14  =HYPERLINK(\"c:\\_projects\\mib2plus-connected\\de...   \n",
      "15  =HYPERLINK(\"c:\\_projects\\mib2plus-connected\\de...   \n",
      "16  =HYPERLINK(\"c:\\_projects\\mib2plus-connected\\de...   \n",
      "17  =HYPERLINK(\"c:\\_projects\\mib2plus-connected\\de...   \n",
      "18  =HYPERLINK(\"c:\\_projects\\mib2plus-connected\\de...   \n",
      "19  =HYPERLINK(\"c:\\_projects\\mib2plus-connected\\de...   \n",
      "20  =HYPERLINK(\"c:\\_projects\\mib2plus-connected\\de...   \n",
      "21  =HYPERLINK(\"c:\\_projects\\mib2plus-connected\\de...   \n",
      "\n",
      "                                                  tar  \n",
      "0   =HYPERLINK(\"c:\\_projects\\mib2plus-connected\\de...  \n",
      "1   =HYPERLINK(\"c:\\_projects\\mib2plus-connected\\de...  \n",
      "2   =HYPERLINK(\"c:\\_projects\\mib2plus-connected\\de...  \n",
      "3   =HYPERLINK(\"c:\\_projects\\mib2plus-connected\\de...  \n",
      "4   =HYPERLINK(\"c:\\_projects\\mib2plus-connected\\de...  \n",
      "5   =HYPERLINK(\"c:\\_projects\\mib2plus-connected\\de...  \n",
      "6   =HYPERLINK(\"c:\\_projects\\mib2plus-connected\\de...  \n",
      "7   =HYPERLINK(\"c:\\_projects\\mib2plus-connected\\de...  \n",
      "8   =HYPERLINK(\"c:\\_projects\\mib2plus-connected\\de...  \n",
      "9   =HYPERLINK(\"c:\\_projects\\mib2plus-connected\\de...  \n",
      "10  =HYPERLINK(\"c:\\_projects\\mib2plus-connected\\de...  \n",
      "11  =HYPERLINK(\"c:\\_projects\\mib2plus-connected\\de...  \n",
      "12  =HYPERLINK(\"c:\\_projects\\mib2plus-connected\\de...  \n",
      "13  =HYPERLINK(\"c:\\_projects\\mib2plus-connected\\de...  \n",
      "14  =HYPERLINK(\"c:\\_projects\\mib2plus-connected\\de...  \n",
      "15  =HYPERLINK(\"c:\\_projects\\mib2plus-connected\\de...  \n",
      "16  =HYPERLINK(\"c:\\_projects\\mib2plus-connected\\de...  \n",
      "17  =HYPERLINK(\"c:\\_projects\\mib2plus-connected\\de...  \n",
      "18  =HYPERLINK(\"c:\\_projects\\mib2plus-connected\\de...  \n",
      "19  =HYPERLINK(\"c:\\_projects\\mib2plus-connected\\de...  \n",
      "20  =HYPERLINK(\"c:\\_projects\\mib2plus-connected\\de...  \n",
      "21  =HYPERLINK(\"c:\\_projects\\mib2plus-connected\\de...  \n"
     ]
    }
   ],
   "source": [
    "#mnc = df[df.language=='MNC']\n",
    "df.ref = df.ref.apply(wav_link)\n",
    "df.tar=df.tar.apply(wav_link)\n",
    "print(df)"
   ]
  },
  {
   "cell_type": "code",
   "execution_count": null,
   "metadata": {},
   "outputs": [],
   "source": [
    "mnc.to_excel('mnc_rtest.xlsx',index=False,encoding='utf-8')"
   ]
  },
  {
   "cell_type": "code",
   "execution_count": 33,
   "metadata": {},
   "outputs": [],
   "source": [
    "df.to_csv('df_rtest.csv',sep=';' ,index=False,encoding='utf-8_sig')"
   ]
  },
  {
   "cell_type": "code",
   "execution_count": null,
   "metadata": {},
   "outputs": [],
   "source": []
  }
 ],
 "metadata": {
  "kernelspec": {
   "display_name": "Python 2",
   "language": "python",
   "name": "python2"
  },
  "language_info": {
   "codemirror_mode": {
    "name": "ipython",
    "version": 2
   },
   "file_extension": ".py",
   "mimetype": "text/x-python",
   "name": "python",
   "nbconvert_exporter": "python",
   "pygments_lexer": "ipython2",
   "version": "2.7.16"
  }
 },
 "nbformat": 4,
 "nbformat_minor": 2
}
