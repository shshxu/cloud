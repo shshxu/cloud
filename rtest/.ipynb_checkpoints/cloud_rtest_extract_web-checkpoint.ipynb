{
 "cells": [
  {
   "cell_type": "code",
   "execution_count": 3,
   "metadata": {},
   "outputs": [],
   "source": [
    "# coding: utf-8\n",
    "import re\n",
    "import urllib\n",
    "import requests\n",
    "import pandas as pd\n",
    "from bs4 import BeautifulSoup\n",
    "import shutil\n",
    "from os import listdir\n",
    "from os.path import isfile, join\n",
    "import pandas as pd"
   ]
  },
  {
   "cell_type": "code",
   "execution_count": 5,
   "metadata": {},
   "outputs": [
    {
     "ename": "InvalidSchema",
     "evalue": "No connection adapters were found for 'file:///Users/vitali/Documents/shanshan/cloud/rtest/mib2plus_connected_Audi_CVT_Azure.html'",
     "output_type": "error",
     "traceback": [
      "\u001b[0;31m---------------------------------------------------------------------------\u001b[0m",
      "\u001b[0;31mInvalidSchema\u001b[0m                             Traceback (most recent call last)",
      "\u001b[0;32m<ipython-input-5-289521901741>\u001b[0m in \u001b[0;36m<module>\u001b[0;34m()\u001b[0m\n\u001b[1;32m      1\u001b[0m \u001b[0murl\u001b[0m \u001b[0;34m=\u001b[0m \u001b[0;34m'file:///Users/vitali/Documents/shanshan/cloud/rtest/mib2plus_connected_Audi_CVT_Azure.html'\u001b[0m\u001b[0;34m\u001b[0m\u001b[0m\n\u001b[0;32m----> 2\u001b[0;31m \u001b[0mpage\u001b[0m \u001b[0;34m=\u001b[0m \u001b[0mrequests\u001b[0m\u001b[0;34m.\u001b[0m\u001b[0mget\u001b[0m\u001b[0;34m(\u001b[0m\u001b[0murl\u001b[0m\u001b[0;34m)\u001b[0m\u001b[0;34m\u001b[0m\u001b[0m\n\u001b[0m\u001b[1;32m      3\u001b[0m \u001b[0mhtml\u001b[0m \u001b[0;34m=\u001b[0m \u001b[0mpage\u001b[0m\u001b[0;34m.\u001b[0m\u001b[0mtext\u001b[0m\u001b[0;34m\u001b[0m\u001b[0m\n\u001b[1;32m      4\u001b[0m \u001b[0msoup\u001b[0m \u001b[0;34m=\u001b[0m \u001b[0mBeautifulSoup\u001b[0m\u001b[0;34m(\u001b[0m\u001b[0mhtml\u001b[0m\u001b[0;34m)\u001b[0m\u001b[0;34m\u001b[0m\u001b[0m\n",
      "\u001b[0;32m/anaconda2/lib/python2.7/site-packages/requests/api.pyc\u001b[0m in \u001b[0;36mget\u001b[0;34m(url, params, **kwargs)\u001b[0m\n\u001b[1;32m     73\u001b[0m \u001b[0;34m\u001b[0m\u001b[0m\n\u001b[1;32m     74\u001b[0m     \u001b[0mkwargs\u001b[0m\u001b[0;34m.\u001b[0m\u001b[0msetdefault\u001b[0m\u001b[0;34m(\u001b[0m\u001b[0;34m'allow_redirects'\u001b[0m\u001b[0;34m,\u001b[0m \u001b[0mTrue\u001b[0m\u001b[0;34m)\u001b[0m\u001b[0;34m\u001b[0m\u001b[0m\n\u001b[0;32m---> 75\u001b[0;31m     \u001b[0;32mreturn\u001b[0m \u001b[0mrequest\u001b[0m\u001b[0;34m(\u001b[0m\u001b[0;34m'get'\u001b[0m\u001b[0;34m,\u001b[0m \u001b[0murl\u001b[0m\u001b[0;34m,\u001b[0m \u001b[0mparams\u001b[0m\u001b[0;34m=\u001b[0m\u001b[0mparams\u001b[0m\u001b[0;34m,\u001b[0m \u001b[0;34m**\u001b[0m\u001b[0mkwargs\u001b[0m\u001b[0;34m)\u001b[0m\u001b[0;34m\u001b[0m\u001b[0m\n\u001b[0m\u001b[1;32m     76\u001b[0m \u001b[0;34m\u001b[0m\u001b[0m\n\u001b[1;32m     77\u001b[0m \u001b[0;34m\u001b[0m\u001b[0m\n",
      "\u001b[0;32m/anaconda2/lib/python2.7/site-packages/requests/api.pyc\u001b[0m in \u001b[0;36mrequest\u001b[0;34m(method, url, **kwargs)\u001b[0m\n\u001b[1;32m     58\u001b[0m     \u001b[0;31m# cases, and look like a memory leak in others.\u001b[0m\u001b[0;34m\u001b[0m\u001b[0;34m\u001b[0m\u001b[0m\n\u001b[1;32m     59\u001b[0m     \u001b[0;32mwith\u001b[0m \u001b[0msessions\u001b[0m\u001b[0;34m.\u001b[0m\u001b[0mSession\u001b[0m\u001b[0;34m(\u001b[0m\u001b[0;34m)\u001b[0m \u001b[0;32mas\u001b[0m \u001b[0msession\u001b[0m\u001b[0;34m:\u001b[0m\u001b[0;34m\u001b[0m\u001b[0m\n\u001b[0;32m---> 60\u001b[0;31m         \u001b[0;32mreturn\u001b[0m \u001b[0msession\u001b[0m\u001b[0;34m.\u001b[0m\u001b[0mrequest\u001b[0m\u001b[0;34m(\u001b[0m\u001b[0mmethod\u001b[0m\u001b[0;34m=\u001b[0m\u001b[0mmethod\u001b[0m\u001b[0;34m,\u001b[0m \u001b[0murl\u001b[0m\u001b[0;34m=\u001b[0m\u001b[0murl\u001b[0m\u001b[0;34m,\u001b[0m \u001b[0;34m**\u001b[0m\u001b[0mkwargs\u001b[0m\u001b[0;34m)\u001b[0m\u001b[0;34m\u001b[0m\u001b[0m\n\u001b[0m\u001b[1;32m     61\u001b[0m \u001b[0;34m\u001b[0m\u001b[0m\n\u001b[1;32m     62\u001b[0m \u001b[0;34m\u001b[0m\u001b[0m\n",
      "\u001b[0;32m/anaconda2/lib/python2.7/site-packages/requests/sessions.pyc\u001b[0m in \u001b[0;36mrequest\u001b[0;34m(self, method, url, params, data, headers, cookies, files, auth, timeout, allow_redirects, proxies, hooks, stream, verify, cert, json)\u001b[0m\n\u001b[1;32m    531\u001b[0m         }\n\u001b[1;32m    532\u001b[0m         \u001b[0msend_kwargs\u001b[0m\u001b[0;34m.\u001b[0m\u001b[0mupdate\u001b[0m\u001b[0;34m(\u001b[0m\u001b[0msettings\u001b[0m\u001b[0;34m)\u001b[0m\u001b[0;34m\u001b[0m\u001b[0m\n\u001b[0;32m--> 533\u001b[0;31m         \u001b[0mresp\u001b[0m \u001b[0;34m=\u001b[0m \u001b[0mself\u001b[0m\u001b[0;34m.\u001b[0m\u001b[0msend\u001b[0m\u001b[0;34m(\u001b[0m\u001b[0mprep\u001b[0m\u001b[0;34m,\u001b[0m \u001b[0;34m**\u001b[0m\u001b[0msend_kwargs\u001b[0m\u001b[0;34m)\u001b[0m\u001b[0;34m\u001b[0m\u001b[0m\n\u001b[0m\u001b[1;32m    534\u001b[0m \u001b[0;34m\u001b[0m\u001b[0m\n\u001b[1;32m    535\u001b[0m         \u001b[0;32mreturn\u001b[0m \u001b[0mresp\u001b[0m\u001b[0;34m\u001b[0m\u001b[0m\n",
      "\u001b[0;32m/anaconda2/lib/python2.7/site-packages/requests/sessions.pyc\u001b[0m in \u001b[0;36msend\u001b[0;34m(self, request, **kwargs)\u001b[0m\n\u001b[1;32m    638\u001b[0m \u001b[0;34m\u001b[0m\u001b[0m\n\u001b[1;32m    639\u001b[0m         \u001b[0;31m# Get the appropriate adapter to use\u001b[0m\u001b[0;34m\u001b[0m\u001b[0;34m\u001b[0m\u001b[0m\n\u001b[0;32m--> 640\u001b[0;31m         \u001b[0madapter\u001b[0m \u001b[0;34m=\u001b[0m \u001b[0mself\u001b[0m\u001b[0;34m.\u001b[0m\u001b[0mget_adapter\u001b[0m\u001b[0;34m(\u001b[0m\u001b[0murl\u001b[0m\u001b[0;34m=\u001b[0m\u001b[0mrequest\u001b[0m\u001b[0;34m.\u001b[0m\u001b[0murl\u001b[0m\u001b[0;34m)\u001b[0m\u001b[0;34m\u001b[0m\u001b[0m\n\u001b[0m\u001b[1;32m    641\u001b[0m \u001b[0;34m\u001b[0m\u001b[0m\n\u001b[1;32m    642\u001b[0m         \u001b[0;31m# Start time (approximately) of the request\u001b[0m\u001b[0;34m\u001b[0m\u001b[0;34m\u001b[0m\u001b[0m\n",
      "\u001b[0;32m/anaconda2/lib/python2.7/site-packages/requests/sessions.pyc\u001b[0m in \u001b[0;36mget_adapter\u001b[0;34m(self, url)\u001b[0m\n\u001b[1;32m    729\u001b[0m \u001b[0;34m\u001b[0m\u001b[0m\n\u001b[1;32m    730\u001b[0m         \u001b[0;31m# Nothing matches :-/\u001b[0m\u001b[0;34m\u001b[0m\u001b[0;34m\u001b[0m\u001b[0m\n\u001b[0;32m--> 731\u001b[0;31m         \u001b[0;32mraise\u001b[0m \u001b[0mInvalidSchema\u001b[0m\u001b[0;34m(\u001b[0m\u001b[0;34m\"No connection adapters were found for '%s'\"\u001b[0m \u001b[0;34m%\u001b[0m \u001b[0murl\u001b[0m\u001b[0;34m)\u001b[0m\u001b[0;34m\u001b[0m\u001b[0m\n\u001b[0m\u001b[1;32m    732\u001b[0m \u001b[0;34m\u001b[0m\u001b[0m\n\u001b[1;32m    733\u001b[0m     \u001b[0;32mdef\u001b[0m \u001b[0mclose\u001b[0m\u001b[0;34m(\u001b[0m\u001b[0mself\u001b[0m\u001b[0;34m)\u001b[0m\u001b[0;34m:\u001b[0m\u001b[0;34m\u001b[0m\u001b[0m\n",
      "\u001b[0;31mInvalidSchema\u001b[0m: No connection adapters were found for 'file:///Users/vitali/Documents/shanshan/cloud/rtest/mib2plus_connected_Audi_CVT_Azure.html'"
     ]
    }
   ],
   "source": [
    "url = 'file:///Users/vitali/Documents/shanshan/cloud/rtest/mib2plus_connected_Audi_CVT_Azure.html'\n",
    "page = requests.get(url)\n",
    "html = page.text\n",
    "soup = BeautifulSoup(html)"
   ]
  },
  {
   "cell_type": "code",
   "execution_count": 29,
   "metadata": {},
   "outputs": [],
   "source": [
    "with open('regression_tester_audi_CVT_Azure_print.txt', 'r',errors='ignore',encoding='utf-8') as log_file_fh:\n",
    "    lines = log_file_fh.read().splitlines()\n",
    "log_file_fh.close()\n",
    "    #print(lines[0][:6])\n",
    "        \n",
    "  "
   ]
  },
  {
   "cell_type": "code",
   "execution_count": 30,
   "metadata": {},
   "outputs": [],
   "source": [
    "lan=[]\n",
    "input_text = []\n",
    "tar_pcm = []\n",
    "ref_pcm=[]\n",
    "work_path = 'c:\\_projects\\mib2plus-connected\\dev'"
   ]
  },
  {
   "cell_type": "code",
   "execution_count": 31,
   "metadata": {},
   "outputs": [
    {
     "name": "stdout",
     "output_type": "stream",
     "text": [
      "326 326 \n",
      "ref: tts_regression\\GED_Ina\\baseline\\vocs7.3.3\\gednewsregression20_ref.pcm tar: tts_regression\\GED_Ina\\impact_test\\..\\baseline\\Audi_Azure_CVT\\gednewsregression20.pcm\n"
     ]
    }
   ],
   "source": [
    "for i in range(len(lines)):\n",
    "    if lines[i][:6] == 'INPUT ':\n",
    "        if lines[i+3][:8] == 'FAILURE:':\n",
    "            lan.append(lines[i][6:9])\n",
    "            input_text.append(lines[i][11:])\n",
    "            \n",
    "            ref_pcm.append(lines[i+4].split('\\\\..\\\\..\\\\')[1])\n",
    "            tar_pcm.append(lines[i+5].split('\\\\..\\\\..\\\\')[1])\n",
    "            \n",
    "        i += 6\n",
    "    else:\n",
    "        i += 1 \n",
    "print(len(lan), len(input_text),'\\nref: '+ref_pcm[0], 'tar: '+tar_pcm[0])"
   ]
  },
  {
   "cell_type": "code",
   "execution_count": 32,
   "metadata": {},
   "outputs": [
    {
     "ename": "SyntaxError",
     "evalue": "unexpected character after line continuation character (<ipython-input-32-bfac29f3c46c>, line 1)",
     "output_type": "error",
     "traceback": [
      "\u001b[1;36m  File \u001b[1;32m\"<ipython-input-32-bfac29f3c46c>\"\u001b[1;36m, line \u001b[1;32m1\u001b[0m\n\u001b[1;33m    c:\\_projects\\mib2plus-connected\\dev\\tts_regression\\GED_Ina\\baseline\\Audi_Azure_CVT\\youtube_ref.pcm\u001b[0m\n\u001b[1;37m                                                                                                      ^\u001b[0m\n\u001b[1;31mSyntaxError\u001b[0m\u001b[1;31m:\u001b[0m unexpected character after line continuation character\n"
     ]
    }
   ],
   "source": [
    "c:\\_projects\\mib2plus-connected\\dev\\tts_regression\\GED_Ina\\baseline\\Audi_Azure_CVT\\youtube_ref.pcm\n",
    "    =HYPERLINK(\"soundfiles\\\"&D59&\".wav\";\"open\")"
   ]
  },
  {
   "cell_type": "code",
   "execution_count": 33,
   "metadata": {},
   "outputs": [],
   "source": [
    "df=pd.DataFrame({'language':lan, 'input':input_text,'ref':ref_pcm, 'tar':tar_pcm})"
   ]
  },
  {
   "cell_type": "code",
   "execution_count": 34,
   "metadata": {},
   "outputs": [
    {
     "name": "stdout",
     "output_type": "stream",
     "text": [
      "=HYPERLINK(\"c:\\_projects\\mib2plus-connected\\devtts_regression\\GED_Ina\\baseline\\vocs7.3.3\\gednewsregression20_ref.pcm\";\"open\")\n"
     ]
    }
   ],
   "source": [
    "def wav_link(pcm):\n",
    "    #wav = work_path  + pcm[:-3] + 'wav'\n",
    "    wav = work_path  + pcm\n",
    "    link = '=HYPERLINK(\"'+  wav+ '\";\"open\")'\n",
    "    return link\n",
    "\n",
    "a = wav_link(ref_pcm[0])\n",
    "print(a)\n",
    "    "
   ]
  },
  {
   "cell_type": "code",
   "execution_count": 37,
   "metadata": {},
   "outputs": [
    {
     "name": "stdout",
     "output_type": "stream",
     "text": [
      "304    =HYPERLINK(\"c:\\_projects\\mib2plus-connected\\de...\n",
      "305    =HYPERLINK(\"c:\\_projects\\mib2plus-connected\\de...\n",
      "306    =HYPERLINK(\"c:\\_projects\\mib2plus-connected\\de...\n",
      "307    =HYPERLINK(\"c:\\_projects\\mib2plus-connected\\de...\n",
      "308    =HYPERLINK(\"c:\\_projects\\mib2plus-connected\\de...\n",
      "309    =HYPERLINK(\"c:\\_projects\\mib2plus-connected\\de...\n",
      "310    =HYPERLINK(\"c:\\_projects\\mib2plus-connected\\de...\n",
      "311    =HYPERLINK(\"c:\\_projects\\mib2plus-connected\\de...\n",
      "312    =HYPERLINK(\"c:\\_projects\\mib2plus-connected\\de...\n",
      "313    =HYPERLINK(\"c:\\_projects\\mib2plus-connected\\de...\n",
      "314    =HYPERLINK(\"c:\\_projects\\mib2plus-connected\\de...\n",
      "315    =HYPERLINK(\"c:\\_projects\\mib2plus-connected\\de...\n",
      "316    =HYPERLINK(\"c:\\_projects\\mib2plus-connected\\de...\n",
      "317    =HYPERLINK(\"c:\\_projects\\mib2plus-connected\\de...\n",
      "318    =HYPERLINK(\"c:\\_projects\\mib2plus-connected\\de...\n",
      "319    =HYPERLINK(\"c:\\_projects\\mib2plus-connected\\de...\n",
      "320    =HYPERLINK(\"c:\\_projects\\mib2plus-connected\\de...\n",
      "321    =HYPERLINK(\"c:\\_projects\\mib2plus-connected\\de...\n",
      "322    =HYPERLINK(\"c:\\_projects\\mib2plus-connected\\de...\n",
      "323    =HYPERLINK(\"c:\\_projects\\mib2plus-connected\\de...\n",
      "324    =HYPERLINK(\"c:\\_projects\\mib2plus-connected\\de...\n",
      "325    =HYPERLINK(\"c:\\_projects\\mib2plus-connected\\de...\n",
      "Name: ref, dtype: object\n"
     ]
    }
   ],
   "source": [
    "mnc = df[df.language=='MNC']\n",
    "mnc.ref = df[df.language=='MNC'].apply(wav_link)\n",
    "print(mnc.ref)"
   ]
  },
  {
   "cell_type": "code",
   "execution_count": 25,
   "metadata": {},
   "outputs": [],
   "source": [
    "mnc.to_excel('mnc_rtest.xlsx',index=False,encoding='utf-8')"
   ]
  },
  {
   "cell_type": "code",
   "execution_count": 38,
   "metadata": {},
   "outputs": [],
   "source": [
    "mnc.to_csv('mnc_rtest.csv',sep=';' ,index=False,encoding='utf-8_sig')"
   ]
  },
  {
   "cell_type": "code",
   "execution_count": null,
   "metadata": {},
   "outputs": [],
   "source": []
  }
 ],
 "metadata": {
  "kernelspec": {
   "display_name": "Python 2",
   "language": "python",
   "name": "python2"
  },
  "language_info": {
   "codemirror_mode": {
    "name": "ipython",
    "version": 2
   },
   "file_extension": ".py",
   "mimetype": "text/x-python",
   "name": "python",
   "nbconvert_exporter": "python",
   "pygments_lexer": "ipython2",
   "version": "2.7.16"
  }
 },
 "nbformat": 4,
 "nbformat_minor": 2
}
