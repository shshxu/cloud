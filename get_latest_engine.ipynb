{
 "cells": [
  {
   "cell_type": "code",
   "execution_count": 11,
   "metadata": {},
   "outputs": [],
   "source": [
    "import requests\n",
    "import lxml.html as lh\n",
    "import pandas as pd\n",
    "from distutils.version import LooseVersion"
   ]
  },
  {
   "cell_type": "code",
   "execution_count": 20,
   "metadata": {},
   "outputs": [],
   "source": [
    "def get_latest_version(url):\n",
    "    page = requests.get(url)\n",
    "    #Store the contents of the website under doc\n",
    "    doc = lh.fromstring(page.content)\n",
    "    #Parse data that are stored between <tr>..</tr> of HTML\n",
    "    tr_elements = doc.xpath('//tr')\n",
    "\n",
    "    #Create empty list\n",
    "    col_name = []\n",
    "    #For each row, store each first element (header) and an empty list\n",
    "    for t in tr_elements[0]:\n",
    "        name=t.text_content()\n",
    "        #print(name)\n",
    "        col_name.append(name)\n",
    "    col_name= col_name[:-2]\n",
    "    #print(col_name)\n",
    "\n",
    "    #Since out first row is the header, data is stored on the second row onwards\n",
    "    rows=[]\n",
    "    for j in range(2,len(tr_elements)):\n",
    "        #T is our j'th row\n",
    "        T=tr_elements[j]\n",
    "        #Iterate through each element of the row\n",
    "        row = []\n",
    "        for t in T.iterchildren():\n",
    "            data=t.text_content() \n",
    "            row.append(data)\n",
    "        rows.append(row[:-2])\n",
    "\n",
    "    df=pd.DataFrame(rows, columns =col_name )\n",
    "    print(url)\n",
    "    if 'engine' in url:\n",
    "        df_reduced = df[df['Product']=='ve'][df['Platform']=='win64'][df[\"Version\"].str.contains('SNAPSHOT')==0]\n",
    "    else:\n",
    "        df_reduced = df\n",
    "        \n",
    "    versions = df_reduced['Version'].tolist()\n",
    "    version_latest = sorted(versions, key=LooseVersion)[-1]\n",
    "    return version_latest\n",
    "    \n",
    "\n"
   ]
  },
  {
   "cell_type": "code",
   "execution_count": 21,
   "metadata": {},
   "outputs": [
    {
     "name": "stdout",
     "output_type": "stream",
     "text": [
      "http://aac-srvtts-tools/vocaholic/common/release/\n",
      "1.0.16\n"
     ]
    }
   ],
   "source": [
    "url_engine='http://aac-srvtts-tools/vocaholic/engine/all/'\n",
    "#Create a handle, page, to handle the contents of the website\n",
    "url_common = 'http://aac-srvtts-tools/vocaholic/common/release/'\n",
    "common_l = get_latest_version(url_common)\n",
    "print(common_l)\n"
   ]
  },
  {
   "cell_type": "code",
   "execution_count": 34,
   "metadata": {},
   "outputs": [
    {
     "ename": "SyntaxError",
     "evalue": "(unicode error) 'unicodeescape' codec can't decode bytes in position 2-3: truncated \\UXXXXXXXX escape (<ipython-input-34-68a6c5fb9497>, line 9)",
     "output_type": "error",
     "traceback": [
      "\u001b[1;36m  File \u001b[1;32m\"<ipython-input-34-68a6c5fb9497>\"\u001b[1;36m, line \u001b[1;32m9\u001b[0m\n\u001b[1;33m    stage=subprocess.Popen([\"E:\\Users\\SpO_MS_VOP\\_tools\\_staging_tool\\\\bin\\stage.exe\",ver_path,vop_path],shell=True)\u001b[0m\n\u001b[1;37m                           ^\u001b[0m\n\u001b[1;31mSyntaxError\u001b[0m\u001b[1;31m:\u001b[0m (unicode error) 'unicodeescape' codec can't decode bytes in position 2-3: truncated \\UXXXXXXXX escape\n"
     ]
    }
   ],
   "source": [
    "def new_stage(vop):\n",
    "    vop_path = stage_path + '\\_' + vop\n",
    "    os.makedirs(vop_path)\n",
    "    ver_path = vop_path + '\\\\versions.txt'\n",
    "    version_file = open(ver_path, 'w+')\n",
    "    version_file.writelines(v_lines)\n",
    "    version_file.close()\n",
    "    print ('*********** Downloading new stage '+ vop + '...**********')\n",
    "    stage=subprocess.Popen([\"E:\\Users\\SpO_MS_VOP\\_tools\\_staging_tool\\\\bin\\stage.exe\",ver_path,vop_path],shell=True)\n",
    "    stage.wait()\n",
    "    print ('############## '+vop + ' stage downloaded ##################')\n"
   ]
  },
  {
   "cell_type": "code",
   "execution_count": 39,
   "metadata": {},
   "outputs": [
    {
     "name": "stdout",
     "output_type": "stream",
     "text": [
      "1.0.15\n",
      "1.0.15\n",
      "True\n",
      "\n",
      "==\n",
      "==\n"
     ]
    }
   ],
   "source": [
    "engine_latest = '3.4.3'\n",
    "common_latest = '1.0.15'\n",
    "\n",
    "with open('C:\\_workspace\\ALD\\\\vop_rt_script\\_stage\\_main_line\\_ref\\\\versions.txt')as v:\n",
    "    v_lines = v.readlines()\n",
    "v.close()\n",
    "engine_nr = v_lines[0].split('#')[-1]\n",
    "cmn_nr = v_lines[1].split('#')[-1]\n",
    "lines = []\n",
    "for line in v_lines:\n",
    "    lines.append(line + '\\n')\n",
    "i =1\n",
    "print(common_latest)\n",
    "print(cmn_nr)\n",
    "print(common_latest == cmn_nr)\n",
    "if engine_latest != engine_nr:\n",
    "    print()\n",
    "    print('==')\n",
    "    lines = [line.replace(engine_nr, engine_latest) for line in lines]\n",
    "if common_latest == cmn_nr:\n",
    "    print('==')\n",
    "    lines = [line.replace(cmn_nr, common_latest) for line in lines]\n",
    "#print(lines)"
   ]
  },
  {
   "cell_type": "code",
   "execution_count": null,
   "metadata": {},
   "outputs": [],
   "source": [
    "\n",
    "    lines = v.readlines()\n",
    "v.close()\n",
    "\n",
    "enging_nr = lines[0].split('#')[-1]\n",
    "cmn_nr = lines[1].split('#')[-1]\n",
    "if common_l != cmn_nr:\n",
    "    lines = [line.replace(cmn_nr, common_l) for line in lines]\n",
    "print(lines)"
   ]
  }
 ],
 "metadata": {
  "kernelspec": {
   "display_name": "Python 3",
   "language": "python",
   "name": "python3"
  },
  "language_info": {
   "codemirror_mode": {
    "name": "ipython",
    "version": 3
   },
   "file_extension": ".py",
   "mimetype": "text/x-python",
   "name": "python",
   "nbconvert_exporter": "python",
   "pygments_lexer": "ipython3",
   "version": "3.7.1"
  }
 },
 "nbformat": 4,
 "nbformat_minor": 2
}
