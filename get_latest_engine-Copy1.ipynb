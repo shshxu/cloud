{
 "cells": [
  {
   "cell_type": "code",
   "execution_count": 14,
   "metadata": {},
   "outputs": [],
   "source": [
    "import requests\n",
    "import lxml.html as lh\n",
    "import pandas as pd\n",
    "from distutils.version import LooseVersion"
   ]
  },
  {
   "cell_type": "code",
   "execution_count": 19,
   "metadata": {},
   "outputs": [
    {
     "name": "stdout",
     "output_type": "stream",
     "text": [
      "[28, 28]\n",
      "\n",
      "                        Package Name\n",
      "                        VOP Version\n",
      "                        Operating Point\n",
      "                        Language\n",
      "                        FE_Voice Version\n",
      "                        Voice\n",
      "                        Voice Version\n",
      "                        FE_CFG\n",
      "                        Reduction\n",
      "                        Coder\n",
      "                        Frequency\n",
      "                        BET\n",
      "                        VE ENGINE MIN\n",
      "                        VE ENGINE MAX\n",
      "                        V6 ENGINE MIN\n",
      "                        V6 ENGINE MAX\n",
      "                        DEPRECATED\n",
      "                        CUSTOM VOICE\n",
      "                        Gender\n",
      "                        CLC\n",
      "                        VLC\n",
      "                        Published Date\n",
      "                        GA\n",
      "                        Tuning Package\n",
      "                        Raw Data Version\n",
      "                        PP Audio ID\n",
      "                        Show on Artifactory\n",
      "                        Cart Options\n",
      "                    \n"
     ]
    }
   ],
   "source": [
    "url = 'http://aac-srvtts-tools.nuance.com/vocaholic/vop/'\n",
    "page = requests.get(url)\n",
    "#Store the contents of the website under doc\n",
    "doc = lh.fromstring(page.content)\n",
    "#Parse data that are stored between <tr>..</tr> of HTML\n",
    "tr_elements = doc.xpath('//tr')\n",
    "\n",
    "print([len(T) for T in tr_elements[:3]] )\n",
    "print(tr_elements[0].text_content())"
   ]
  },
  {
   "cell_type": "code",
   "execution_count": 9,
   "metadata": {},
   "outputs": [
    {
     "name": "stdout",
     "output_type": "stream",
     "text": [
      "['Package Name', 'VOP Version', 'Operating Point', 'Language', 'FE_Voice Version', 'Voice', 'Voice Version', 'FE_CFG']\n"
     ]
    },
    {
     "ename": "IndexError",
     "evalue": "list index out of range",
     "output_type": "error",
     "traceback": [
      "\u001b[1;31m---------------------------------------------------------------------------\u001b[0m",
      "\u001b[1;31mIndexError\u001b[0m                                Traceback (most recent call last)",
      "\u001b[1;32m<ipython-input-9-86c9e4ba0aa6>\u001b[0m in \u001b[0;36m<module>\u001b[1;34m\u001b[0m\n\u001b[0;32m     20\u001b[0m \u001b[1;31m#for j in range(2,3):\u001b[0m\u001b[1;33m\u001b[0m\u001b[1;33m\u001b[0m\u001b[1;33m\u001b[0m\u001b[0m\n\u001b[0;32m     21\u001b[0m     \u001b[1;31m#T is our j'th row\u001b[0m\u001b[1;33m\u001b[0m\u001b[1;33m\u001b[0m\u001b[1;33m\u001b[0m\u001b[0m\n\u001b[1;32m---> 22\u001b[1;33m \u001b[0mT\u001b[0m\u001b[1;33m=\u001b[0m\u001b[0mtr_elements\u001b[0m\u001b[1;33m[\u001b[0m\u001b[1;36m2\u001b[0m\u001b[1;33m]\u001b[0m\u001b[1;33m\u001b[0m\u001b[1;33m\u001b[0m\u001b[0m\n\u001b[0m\u001b[0;32m     23\u001b[0m \u001b[1;31m#Iterate through each element of the row\u001b[0m\u001b[1;33m\u001b[0m\u001b[1;33m\u001b[0m\u001b[1;33m\u001b[0m\u001b[0m\n\u001b[0;32m     24\u001b[0m \u001b[0mrow\u001b[0m \u001b[1;33m=\u001b[0m \u001b[1;33m[\u001b[0m\u001b[1;33m]\u001b[0m\u001b[1;33m\u001b[0m\u001b[1;33m\u001b[0m\u001b[0m\n",
      "\u001b[1;31mIndexError\u001b[0m: list index out of range"
     ]
    }
   ],
   "source": [
    "\n",
    "\n",
    "#Create empty list\n",
    "col_name = []\n",
    "#For each row, store each first element (header) and an empty list\n",
    "for t in tr_elements[0]:\n",
    "    name=t.text_content()\n",
    "    #print(name)\n",
    "    col_name.append(name)\n",
    "col_name= col_name[:8]\n",
    "print(col_name)\n",
    "\n",
    "#Since out first row is the header, data is stored on the second row onwards\n",
    "rows=[]\n",
    "#for j in range(2,3):\n",
    "    #T is our j'th row\n",
    "T=tr_elements[2]\n",
    "#Iterate through each element of the row\n",
    "row = []\n",
    "for t in T.iterchildren():\n",
    "    data=t.text_content() \n",
    "    row.append(data)\n",
    "rows.append(row)\n",
    "print(rows)"
   ]
  },
  {
   "cell_type": "code",
   "execution_count": 20,
   "metadata": {},
   "outputs": [],
   "source": [
    "df=pd.DataFrame(rows, columns =col_name )\n",
    "print(url)\n",
    "if 'engine' in url:\n",
    "    df_reduced = df[df['Product']=='ve'][df['Platform']=='win64'][df[\"Version\"].str.contains('SNAPSHOT')==0]\n",
    "else:\n",
    "    df_reduced = df\n",
    "\n",
    "versions = df_reduced['Version'].tolist()\n",
    "version_latest = sorted(versions, key=LooseVersion)[-1]\n",
    "return version_latest"
   ]
  },
  {
   "cell_type": "code",
   "execution_count": 21,
   "metadata": {},
   "outputs": [
    {
     "name": "stdout",
     "output_type": "stream",
     "text": [
      "http://aac-srvtts-tools/vocaholic/common/release/\n",
      "1.0.16\n"
     ]
    }
   ],
   "source": [
    "url_engine='http://aac-srvtts-tools/vocaholic/engine/all/'\n",
    "#Create a handle, page, to handle the contents of the website\n",
    "url_common = 'http://aac-srvtts-tools/vocaholic/common/release/'\n",
    "common_l = get_latest_version(url_common)\n",
    "print(common_l)\n"
   ]
  },
  {
   "cell_type": "code",
   "execution_count": 34,
   "metadata": {},
   "outputs": [
    {
     "ename": "SyntaxError",
     "evalue": "(unicode error) 'unicodeescape' codec can't decode bytes in position 2-3: truncated \\UXXXXXXXX escape (<ipython-input-34-68a6c5fb9497>, line 9)",
     "output_type": "error",
     "traceback": [
      "\u001b[1;36m  File \u001b[1;32m\"<ipython-input-34-68a6c5fb9497>\"\u001b[1;36m, line \u001b[1;32m9\u001b[0m\n\u001b[1;33m    stage=subprocess.Popen([\"E:\\Users\\SpO_MS_VOP\\_tools\\_staging_tool\\\\bin\\stage.exe\",ver_path,vop_path],shell=True)\u001b[0m\n\u001b[1;37m                           ^\u001b[0m\n\u001b[1;31mSyntaxError\u001b[0m\u001b[1;31m:\u001b[0m (unicode error) 'unicodeescape' codec can't decode bytes in position 2-3: truncated \\UXXXXXXXX escape\n"
     ]
    }
   ],
   "source": [
    "def new_stage(vop):\n",
    "    vop_path = stage_path + '\\_' + vop\n",
    "    os.makedirs(vop_path)\n",
    "    ver_path = vop_path + '\\\\versions.txt'\n",
    "    version_file = open(ver_path, 'w+')\n",
    "    version_file.writelines(v_lines)\n",
    "    version_file.close()\n",
    "    print ('*********** Downloading new stage '+ vop + '...**********')\n",
    "    stage=subprocess.Popen([\"E:\\Users\\SpO_MS_VOP\\_tools\\_staging_tool\\\\bin\\stage.exe\",ver_path,vop_path],shell=True)\n",
    "    stage.wait()\n",
    "    print ('############## '+vop + ' stage downloaded ##################')\n"
   ]
  },
  {
   "cell_type": "code",
   "execution_count": 39,
   "metadata": {},
   "outputs": [
    {
     "name": "stdout",
     "output_type": "stream",
     "text": [
      "1.0.15\n",
      "1.0.15\n",
      "True\n",
      "\n",
      "==\n",
      "==\n"
     ]
    }
   ],
   "source": [
    "engine_latest = '3.4.3'\n",
    "common_latest = '1.0.15'\n",
    "\n",
    "with open('C:\\_workspace\\ALD\\\\vop_rt_script\\_stage\\_main_line\\_ref\\\\versions.txt')as v:\n",
    "    v_lines = v.readlines()\n",
    "v.close()\n",
    "engine_nr = v_lines[0].split('#')[-1]\n",
    "cmn_nr = v_lines[1].split('#')[-1]\n",
    "lines = []\n",
    "for line in v_lines:\n",
    "    lines.append(line + '\\n')\n",
    "i =1\n",
    "print(common_latest)\n",
    "print(cmn_nr)\n",
    "print(common_latest == cmn_nr)\n",
    "if engine_latest != engine_nr:\n",
    "    print()\n",
    "    print('==')\n",
    "    lines = [line.replace(engine_nr, engine_latest) for line in lines]\n",
    "if common_latest == cmn_nr:\n",
    "    print('==')\n",
    "    lines = [line.replace(cmn_nr, common_latest) for line in lines]\n",
    "#print(lines)"
   ]
  },
  {
   "cell_type": "code",
   "execution_count": null,
   "metadata": {},
   "outputs": [],
   "source": [
    "\n",
    "    lines = v.readlines()\n",
    "v.close()\n",
    "\n",
    "enging_nr = lines[0].split('#')[-1]\n",
    "cmn_nr = lines[1].split('#')[-1]\n",
    "if common_l != cmn_nr:\n",
    "    lines = [line.replace(cmn_nr, common_l) for line in lines]\n",
    "print(lines)"
   ]
  }
 ],
 "metadata": {
  "kernelspec": {
   "display_name": "Python 3",
   "language": "python",
   "name": "python3"
  },
  "language_info": {
   "codemirror_mode": {
    "name": "ipython",
    "version": 3
   },
   "file_extension": ".py",
   "mimetype": "text/x-python",
   "name": "python",
   "nbconvert_exporter": "python",
   "pygments_lexer": "ipython3",
   "version": "3.7.1"
  }
 },
 "nbformat": 4,
 "nbformat_minor": 2
}
