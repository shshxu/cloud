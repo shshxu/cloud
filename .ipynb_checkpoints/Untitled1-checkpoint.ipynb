{
 "cells": [
  {
   "cell_type": "code",
   "execution_count": null,
   "metadata": {},
   "outputs": [],
   "source": [
    "import os\n"
   ]
  },
  {
   "cell_type": "code",
   "execution_count": 6,
   "metadata": {},
   "outputs": [
    {
     "name": "stdout",
     "output_type": "stream",
     "text": [
      "['auto_s0000025.1.tso', 'auto_s0000026.1.tso', 'auto_s0000027.1.tso', 'auto_s0000028.1.tso', 'auto_s0000028.pcm', 'auto_s0000043.1.tso', 'auto_s0000043.pcm', 'auto_s0000125.1.tso', 'auto_s0000125.pcm', 'auto_s0000752.1.tso', 'auto_s0000752.pcm']\n"
     ]
    }
   ],
   "source": [
    "m = open('mismatch_arw.txt')\n",
    "lines = m.readlines()\n",
    "\n",
    "mismatch = [line.strip() for line in lines]\n",
    "print(mismatch)"
   ]
  },
  {
   "cell_type": "code",
   "execution_count": 11,
   "metadata": {},
   "outputs": [
    {
     "name": "stdout",
     "output_type": "stream",
     "text": [
      "['auto_s0000025', '1.tso']\n",
      "['auto_s0000026', '1.tso']\n",
      "['auto_s0000027', '1.tso']\n",
      "['auto_s0000028', '1.tso']\n",
      "['auto_s0000028', 'pcm']\n",
      "['auto_s0000043', '1.tso']\n",
      "['auto_s0000043', 'pcm']\n",
      "['auto_s0000125', '1.tso']\n",
      "['auto_s0000125', 'pcm']\n",
      "['auto_s0000752', '1.tso']\n",
      "['auto_s0000752', 'pcm']\n"
     ]
    }
   ],
   "source": [
    "for f in mismatch:\n",
    "    print(f.split('.',1)[0:])"
   ]
  },
  {
   "cell_type": "code",
   "execution_count": null,
   "metadata": {},
   "outputs": [],
   "source": [
    "for f in mismatch:\n",
    "    os.makedir('mismatch_files')\n",
    "    o_path_ref =\n",
    "    n_path_ref =\n",
    "    shutil.copyfile(o_path_ref, n_path_ref)\n",
    "    n_path_tar = \n",
    "    n_path_tar =\n",
    "    shutil.copyfile(o_path_tar, n_path_tar)\n",
    "    "
   ]
  },
  {
   "cell_type": "code",
   "execution_count": null,
   "metadata": {},
   "outputs": [],
   "source": []
  }
 ],
 "metadata": {
  "kernelspec": {
   "display_name": "Python 2",
   "language": "python",
   "name": "python2"
  },
  "language_info": {
   "codemirror_mode": {
    "name": "ipython",
    "version": 2
   },
   "file_extension": ".py",
   "mimetype": "text/x-python",
   "name": "python",
   "nbconvert_exporter": "python",
   "pygments_lexer": "ipython2",
   "version": "2.7.16"
  }
 },
 "nbformat": 4,
 "nbformat_minor": 2
}
